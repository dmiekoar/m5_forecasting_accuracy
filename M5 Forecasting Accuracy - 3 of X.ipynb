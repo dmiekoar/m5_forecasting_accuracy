{
 "cells": [
  {
   "cell_type": "code",
   "execution_count": 3,
   "metadata": {},
   "outputs": [],
   "source": [
    "# Load packages\n",
    "import numpy as np\n",
    "import pandas as pd\n",
    "import warnings, gc, sys, json\n",
    "import datetime as dt\n",
    "from m5_utils import *\n",
    "\n",
    "pd.set_option('display.float_format', lambda x: '%.5f' % x)\n",
    "pd.set_option('display.max_columns', 100)"
   ]
  },
  {
   "cell_type": "code",
   "execution_count": null,
   "metadata": {},
   "outputs": [],
   "source": [
    "import holidays\n",
    "\n",
    "holidays_CA = []\n",
    "holidays_TX = pd.DataFrame()\n",
    "holidays_WI = pd.DataFrame()\n",
    "holiday = []\n",
    "description = []\n",
    "\n",
    "for date, name in sorted(holidays.US(state=['CA'], years=[2011,2012,2013,2014,2015,2016]).items()):\n",
    "    holiday.append(date)\n",
    "    description.append(name)\n",
    "holidays_CA = pd.DataFrame([holiday, description])\n",
    "holidays_CA = holidays_CA.T\n",
    "holidays_CA.columns = ['Holiday_Date','Holiday_Description']\n",
    "\n",
    "for date, name in sorted(holidays.US(state=['TX'], years=[2011,2012,2013,2014,2015,2016]).items()):\n",
    "    holiday.append(date)\n",
    "    description.append(name)\n",
    "holidays_TX = pd.DataFrame([holiday, description])\n",
    "holidays_TX = holidays_TX.T\n",
    "holidays_TX.columns = ['Holiday_Date','Holiday_Description']\n",
    "\n",
    "for date, name in sorted(holidays.US(state=['WI'], years=[2011,2012,2013,2014,2015,2016]).items()):\n",
    "    holiday.append(date)\n",
    "    description.append(name)\n",
    "holidays_WI = pd.DataFrame([holiday, description])\n",
    "holidays_WI = holidays_WI.T\n",
    "holidays_WI.columns = ['Holiday_Date','Holiday_Description']\n",
    "\n",
    "holidays_CA.to_pickle('input/holidays_CA.pkl')\n",
    "holidays_TX.to_pickle('input/holidays_TX.pkl')\n",
    "holidays_WI.to_pickle('input/holidays_WI.pkl')\n"
   ]
  },
  {
   "cell_type": "code",
   "execution_count": 4,
   "metadata": {},
   "outputs": [
    {
     "name": "stdout",
     "output_type": "stream",
     "text": [
      "(396, 3)\n"
     ]
    }
   ],
   "source": [
    "CA = pd.read_pickle('input/holidays_CA.pkl')\n",
    "TX = pd.read_pickle('input/holidays_TX.pkl')\n",
    "WI = pd.read_pickle('input/holidays_WI.pkl')\n",
    "\n",
    "CA['state'] = 'CA'\n",
    "TX['state'] = 'TX'\n",
    "WI['state'] = 'WI'\n",
    "\n",
    "weather['state_id'] = weather['state'].map(dict_m5_inv['state_id'])\n",
    "del weather['state']\n",
    "holidays_consolidated = pd.concat([CA, TX, WI], axis = 0); print(holidays_consolidated.shape)\n",
    "holidays_consolidated.to_csv('input/holidays_consolidated.csv', index = False)"
   ]
  },
  {
   "cell_type": "code",
   "execution_count": null,
   "metadata": {},
   "outputs": [],
   "source": []
  },
  {
   "cell_type": "code",
   "execution_count": null,
   "metadata": {},
   "outputs": [],
   "source": [
    "from wwo_hist import retrieve_hist_data\n",
    "\n",
    "frequency = 6\n",
    "start_date = '01-01-2011'\n",
    "end_date = '31-12-2016'\n",
    "api_key = '8cec0a01934b4ffe825150917201603'\n",
    "location_list = ['california', 'texas', 'wisconsin']"
   ]
  },
  {
   "cell_type": "code",
   "execution_count": null,
   "metadata": {},
   "outputs": [],
   "source": [
    "hist_weather_data = retrieve_hist_data(api_key,\n",
    "                                location_list,\n",
    "                                start_date,\n",
    "                                end_date,\n",
    "                                frequency,\n",
    "                                location_label = False,\n",
    "                                export_csv = True,\n",
    "                                store_df = True)"
   ]
  },
  {
   "cell_type": "code",
   "execution_count": null,
   "metadata": {},
   "outputs": [],
   "source": [
    "def create_weather(filename):\n",
    "    \n",
    "    df = pd.read_csv(str(filename)+'.csv')\n",
    "    to_drop = ['sunHour','maxtempC','mintempC','uvIndex','uvIndex.1','moon_illumination','moonrise','moonset','sunrise','sunset','DewPointC','WindGustKmph','cloudcover','pressure','visibility','winddirDegree','windspeedKmph']\n",
    "    df.drop(to_drop, axis = 1, inplace = True)\n",
    "    df['date_time'] = pd.to_datetime(df['date_time'])\n",
    "    df['hour'] = df['date_time'].dt.hour\n",
    "    df['day'] = df['date_time'].dt.day\n",
    "    df['month'] = df['date_time'].dt.month\n",
    "    df['year'] = df['date_time'].dt.year\n",
    "    df['keep'] = df['hour'].apply(lambda x: 1 if (x>7 and x<23) else 0)\n",
    "    df = df[df['keep']==1]\n",
    "    del df['keep']\n",
    "    df['date'] = (df.year.astype(str)+ '-' + df.month.astype(str)+'-' + df.day.astype(str))\n",
    "    df = df.groupby(['date']).mean()\n",
    "    droplist = ['hour','day','month','year']\n",
    "    df.drop(droplist, inplace = True, axis = 1)\n",
    "    for col in df.columns:\n",
    "        if col!='date':\n",
    "            df[col] = df[col].apply(lambda x: np.round(x,1))\n",
    "    if filename=='california_1':\n",
    "        new_col = 'CA'\n",
    "    elif filename=='texas_1':\n",
    "        new_col = 'TX'\n",
    "    else:\n",
    "        new_col = 'WI'\n",
    "    df['state'] = new_col\n",
    "    df = reduce_mem_usage(df)\n",
    "    new_filename = 'new_' + filename + '.csv'\n",
    "    df.to_csv(new_filename)\n",
    "    \n",
    "    return df"
   ]
  },
  {
   "cell_type": "code",
   "execution_count": 5,
   "metadata": {},
   "outputs": [
    {
     "name": "stdout",
     "output_type": "stream",
     "text": [
      "(6576, 9)\n"
     ]
    }
   ],
   "source": [
    "CA = create_weather('california_1')\n",
    "TX = create_weather('texas_1')\n",
    "WI = create_weather('wisconsin_1')\n",
    "\n",
    "#CA = pd.read_csv('input/new_california_1.csv')\n",
    "#TX = pd.read_csv('input/new_texas_1.csv')\n",
    "#WI = pd.read_csv('input/new_wisconsin_1.csv')\n",
    "\n",
    "\n",
    "weather_consolidated = pd.concat([CA, TX, WI], axis = 0); print(weather_consolidated.shape)\n",
    "weather_consolidated.to_csv('input/weather_consolidated.csv', index = False)"
   ]
  }
 ],
 "metadata": {
  "kernelspec": {
   "display_name": "Python 3",
   "language": "python",
   "name": "python3"
  },
  "language_info": {
   "codemirror_mode": {
    "name": "ipython",
    "version": 3
   },
   "file_extension": ".py",
   "mimetype": "text/x-python",
   "name": "python",
   "nbconvert_exporter": "python",
   "pygments_lexer": "ipython3",
   "version": "3.7.5"
  }
 },
 "nbformat": 4,
 "nbformat_minor": 4
}
