{
 "cells": [
  {
   "cell_type": "code",
   "execution_count": null,
   "metadata": {},
   "outputs": [],
   "source": [
    "# Load packages\n",
    "import numpy as np\n",
    "import pandas as pd\n",
    "import warnings, gc, sys, json\n",
    "from m5_utils import *\n",
    "\n",
    "pd.set_option('display.float_format', lambda x: '%.5f' % x)\n",
    "pd.set_option('display.max_columns', 100)"
   ]
  },
  {
   "cell_type": "code",
   "execution_count": null,
   "metadata": {},
   "outputs": [],
   "source": [
    "with open('input/dict_m5.json') as json_file:\n",
    "    dict_m5 = json.load(json_file)\n",
    "with open('input/dict_m5_inv.json') as json_file:\n",
    "    dict_m5_inv = json.load(json_file)"
   ]
  },
  {
   "cell_type": "code",
   "execution_count": null,
   "metadata": {},
   "outputs": [],
   "source": [
    "def convert_numbers(df, dict_m5_inv):\n",
    "    map_year = { 2011:1, 2012:2, 2013:3, 2014:4, 2015:5, 2016:6}\n",
    "\n",
    "    for col in df.columns:\n",
    "        if col not in ['demand','wm_yr_wk','date','wday','month','year','snap_CA','snap_TX','snap_WI','sell_price']:\n",
    "            col_dict = dict_m5_inv[col]\n",
    "            df[col] = df[col].map(col_dict)\n",
    "    for col in df.columns:\n",
    "        if col  in ['year']:\n",
    "            df[col] = df[col].map(map_year)\n",
    "    \n",
    "    df = reduce_mem_usage(df)\n",
    "    \n",
    "    return df"
   ]
  },
  {
   "cell_type": "code",
   "execution_count": null,
   "metadata": {},
   "outputs": [],
   "source": [
    "%%time\n",
    "train = pd.read_pickle('input/train_v0.pkl')\n",
    "print(train.shape);train.head()"
   ]
  },
  {
   "cell_type": "code",
   "execution_count": null,
   "metadata": {},
   "outputs": [],
   "source": [
    "# train['id'] = train['id'].transform(lambda x: x.replace('_evaluation','_validation'))\n",
    "train = convert_numbers(train, dict_m5_inv)"
   ]
  },
  {
   "cell_type": "code",
   "execution_count": null,
   "metadata": {},
   "outputs": [],
   "source": [
    "cat_cols = train.select_dtypes('category')\n",
    "for col in train.columns:\n",
    "    if col in cat_cols:\n",
    "        train[col] = train[col].cat.codes"
   ]
  },
  {
   "cell_type": "code",
   "execution_count": null,
   "metadata": {},
   "outputs": [],
   "source": [
    "%%time\n",
    "train.to_pickle('input/train_v3.pkl')"
   ]
  }
 ],
 "metadata": {
  "kernelspec": {
   "display_name": "Python 3",
   "language": "python",
   "name": "python3"
  },
  "language_info": {
   "codemirror_mode": {
    "name": "ipython",
    "version": 3
   },
   "file_extension": ".py",
   "mimetype": "text/x-python",
   "name": "python",
   "nbconvert_exporter": "python",
   "pygments_lexer": "ipython3",
   "version": "3.7.5"
  }
 },
 "nbformat": 4,
 "nbformat_minor": 4
}
